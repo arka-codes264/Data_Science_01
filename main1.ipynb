{
 "cells": [
  {
   "cell_type": "code",
   "execution_count": 1,
   "id": "1cb0b8cb-d818-4053-bdd6-4439fb02cb9e",
   "metadata": {},
   "outputs": [],
   "source": [
    "import json"
   ]
  },
  {
   "cell_type": "code",
   "execution_count": 3,
   "id": "b9ddb5f2-089a-4e09-bd76-23605c507cd7",
   "metadata": {},
   "outputs": [],
   "source": [
    "def load_data(filename):\n",
    "    with open(filename , \"r\") as f:\n",
    "        data = json.load(f)\n",
    "    return data"
   ]
  },
  {
   "cell_type": "code",
   "execution_count": 12,
   "id": "c5d2c30a-431c-498b-b86d-1e99583281d2",
   "metadata": {},
   "outputs": [],
   "source": [
    "data = load_data(\"new_data.json\")"
   ]
  },
  {
   "cell_type": "code",
   "execution_count": 8,
   "id": "3040f440-5872-4940-8d62-d3f0cf97da1e",
   "metadata": {},
   "outputs": [
    {
     "data": {
      "text/plain": [
       "{'cells': [{'cell_type': 'code',\n",
       "   'execution_count': 1,\n",
       "   'id': '833d4d0c-b484-46ba-b254-e58f2e0bd0e1',\n",
       "   'metadata': {},\n",
       "   'outputs': [{'data': {'text/plain': [\"{'users': [{'id': 1, 'name': 'Amit', 'friends': [2, 3], 'liked_pages': [101]},\\n\",\n",
       "       \"  {'id': 2, 'name': 'Priya', 'friends': [1, 4], 'liked_pages': [102]},\\n\",\n",
       "       \"  {'id': 3, 'name': 'Rahul', 'friends': [1], 'liked_pages': [101, 103]},\\n\",\n",
       "       \"  {'id': 4, 'name': 'Sara', 'friends': [2], 'liked_pages': [104]}],\\n\",\n",
       "       \" 'pages': [{'id': 101, 'name': 'Python Developers'},\\n\",\n",
       "       \"  {'id': 102, 'name': 'Data Science Enthusiasts'},\\n\",\n",
       "       \"  {'id': 103, 'name': 'AI & ML Community'},\\n\",\n",
       "       \"  {'id': 104, 'name': 'Web Dev Hub'}]}\"]},\n",
       "     'execution_count': 1,\n",
       "     'metadata': {},\n",
       "     'output_type': 'execute_result'}],\n",
       "   'source': ['{\\n',\n",
       "    '    \"users\": [\\n',\n",
       "    '        {\"id\": 1, \"name\": \"Amit\", \"friends\": [2, 3], \"liked_pages\": [101]},\\n',\n",
       "    '        {\"id\": 2, \"name\": \"Priya\", \"friends\": [1, 4], \"liked_pages\": [102]},\\n',\n",
       "    '        {\"id\": 3, \"name\": \"Rahul\", \"friends\": [1], \"liked_pages\": [101, 103]},\\n',\n",
       "    '        {\"id\": 4, \"name\": \"Sara\", \"friends\": [2], \"liked_pages\": [104]}\\n',\n",
       "    '    ],\\n',\n",
       "    '    \"pages\": [\\n',\n",
       "    '        {\"id\": 101, \"name\": \"Python Developers\"},\\n',\n",
       "    '        {\"id\": 102, \"name\": \"Data Science Enthusiasts\"},\\n',\n",
       "    '        {\"id\": 103, \"name\": \"AI & ML Community\"},\\n',\n",
       "    '        {\"id\": 104, \"name\": \"Web Dev Hub\"}\\n',\n",
       "    '    ]\\n',\n",
       "    '}']},\n",
       "  {'cell_type': 'code',\n",
       "   'execution_count': None,\n",
       "   'id': 'ce82fbce-7487-484f-b99e-14e5028d8896',\n",
       "   'metadata': {},\n",
       "   'outputs': [],\n",
       "   'source': []}],\n",
       " 'metadata': {'kernelspec': {'display_name': 'Python [conda env:base] *',\n",
       "   'language': 'python',\n",
       "   'name': 'conda-base-py'},\n",
       "  'language_info': {'codemirror_mode': {'name': 'ipython', 'version': 3},\n",
       "   'file_extension': '.py',\n",
       "   'mimetype': 'text/x-python',\n",
       "   'name': 'python',\n",
       "   'nbconvert_exporter': 'python',\n",
       "   'pygments_lexer': 'ipython3',\n",
       "   'version': '3.13.5'}},\n",
       " 'nbformat': 4,\n",
       " 'nbformat_minor': 5}"
      ]
     },
     "execution_count": 8,
     "metadata": {},
     "output_type": "execute_result"
    }
   ],
   "source": [
    "data"
   ]
  },
  {
   "cell_type": "code",
   "execution_count": 9,
   "id": "1f4f7e07-38f4-4a3b-a0f5-c5b4223ca752",
   "metadata": {},
   "outputs": [
    {
     "data": {
      "text/plain": [
       "dict"
      ]
     },
     "execution_count": 9,
     "metadata": {},
     "output_type": "execute_result"
    }
   ],
   "source": [
    "type(data)"
   ]
  },
  {
   "cell_type": "code",
   "execution_count": 22,
   "id": "9333e950-054c-4e2d-a4f8-bf813d860e01",
   "metadata": {},
   "outputs": [
    {
     "name": "stdout",
     "output_type": "stream",
     "text": [
      "users and their connection\n",
      "\n",
      "ID:-1. Amit is friends with:[2, 3] and like pages are [101]\n",
      "ID:-2. Priya is friends with:[1, 4] and like pages are [102]\n",
      "ID:-3. Rahul is friends with:[1] and like pages are [101, 103]\n",
      "ID:-4. Sara is friends with:[2] and like pages are [104]\n",
      "\n",
      "\n",
      "Pages and their Information\n",
      "\n",
      "101: Python Developers\n",
      "102: Data Science Enthusiasts\n",
      "103: AI & ML Community\n",
      "104: Web Dev Hub\n"
     ]
    }
   ],
   "source": [
    "# write a function to display users and connection \n",
    "# def display_users(data):\n",
    "#     print(\"users and their connection\\n\")\n",
    "#     for user in data['users']:\n",
    "#         print(f\"{user['name']} is friends with:{user['friends']} and like pages are {user['liked_pages']}\")\n",
    "#     print(\"Pages and their Information\")\n",
    "#     for page in data['liked_pages']:\n",
    "#         print(f\"{page['id']}: {page['name']}\")\n",
    "\n",
    "# display_users(data)\n",
    "\n",
    "\n",
    "# write a function to display users and connection \n",
    "def display_users(data):\n",
    "    print(\"users and their connection\\n\")\n",
    "    \n",
    "    # Check if 'users' key exists in data\n",
    "    if 'users' in data:\n",
    "        for user in data['users']:\n",
    "            print(f\"ID:-{user['id']}. {user['name']} is friends with:{user['friends']} and like pages are {user['liked_pages']}\")\n",
    "        print(\"\\n\")\n",
    "    else:\n",
    "        print(\"No users found in the data\")\n",
    "    \n",
    "    print(\"Pages and their Information\\n\")\n",
    "    \n",
    "    # Check if 'liked_pages' key exists in data\n",
    "    \n",
    "    if 'pages' in data:\n",
    "        for page in data['pages']:\n",
    "            print(f\"{page['id']}: {page['name']}\")\n",
    "    else:\n",
    "        print(\"No liked pages found in the data\")\n",
    "\n",
    "# Before calling the function, make sure 'data' has the expected structure\n",
    "# You might need to initialize data with the correct structure:\n",
    "# data = {'users': [...], 'liked_pages': [...]}\n",
    "\n",
    "display_users(data)"
   ]
  },
  {
   "cell_type": "code",
   "execution_count": null,
   "id": "7f5ccbe4-ff96-4f30-8199-633ecda77c27",
   "metadata": {},
   "outputs": [],
   "source": []
  }
 ],
 "metadata": {
  "kernelspec": {
   "display_name": "Python [conda env:base] *",
   "language": "python",
   "name": "conda-base-py"
  },
  "language_info": {
   "codemirror_mode": {
    "name": "ipython",
    "version": 3
   },
   "file_extension": ".py",
   "mimetype": "text/x-python",
   "name": "python",
   "nbconvert_exporter": "python",
   "pygments_lexer": "ipython3",
   "version": "3.13.5"
  }
 },
 "nbformat": 4,
 "nbformat_minor": 5
}
